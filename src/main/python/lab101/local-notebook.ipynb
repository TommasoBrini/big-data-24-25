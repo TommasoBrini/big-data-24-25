{
 "cells": [
  {
   "cell_type": "markdown",
   "id": "60417f35",
   "metadata": {},
   "source": [
    "# Sample Spark job\n",
    "\n",
    "Import the library to launch a spark-shell; it will take a bit to load (1 minute, approximately), then it will show the link at which you can access the Spark UI."
   ]
  },
  {
   "cell_type": "code",
   "id": "06615c0a",
   "metadata": {
    "ExecuteTime": {
     "end_time": "2024-11-14T16:41:47.877421Z",
     "start_time": "2024-11-14T16:41:10.576150Z"
    }
   },
   "source": "import org.apache.spark",
   "outputs": [
    {
     "data": {
      "text/plain": [
       "Intitializing Scala interpreter ..."
      ]
     },
     "metadata": {},
     "output_type": "display_data"
    },
    {
     "data": {
      "text/plain": [
       "Spark Web UI available at http://LAPTOP-PSTRJPQO:4040\n",
       "SparkContext available as 'sc' (version = 3.5.1, master = local[*], app id = local-1731602491342)\n",
       "SparkSession available as 'spark'\n"
      ]
     },
     "metadata": {},
     "output_type": "display_data"
    },
    {
     "data": {
      "text/plain": [
       "import org.apache.spark\r\n"
      ]
     },
     "execution_count": 1,
     "metadata": {},
     "output_type": "execute_result"
    }
   ],
   "execution_count": 1
  },
  {
   "metadata": {},
   "cell_type": "code",
   "source": [
    "// DO NOT EXECUTE - this is needed just to avoid showing errors in the following cells\n",
    "val sc = spark.SparkContext.getOrCreate()"
   ],
   "id": "ac22cf88a51a460",
   "outputs": [],
   "execution_count": null
  },
  {
   "metadata": {},
   "cell_type": "markdown",
   "source": "In the following cell is a simple job that loads the content of the \"capra\" dataset, splits the lines into single words, translates them into upper case, and shows them in output.",
   "id": "15d7fa0f2af084fd"
  },
  {
   "cell_type": "code",
   "id": "1f0474d7",
   "metadata": {
    "ExecuteTime": {
     "end_time": "2024-11-14T16:43:27.729211Z",
     "start_time": "2024-11-14T16:43:23.710746Z"
    }
   },
   "source": "sc.textFile(\"../../../../datasets/capra.txt\").flatMap(_.split(\" \")).map(_.toUpperCase()).collect()",
   "outputs": [
    {
     "data": {
      "text/plain": [
       "res0: Array[String] = Array(SOPRA, LA, PANCA, LA, CAPRA, CAMPA, SOTTO, LA, PANCA, LA, CAPRA, CREPA)\r\n"
      ]
     },
     "execution_count": 2,
     "metadata": {},
     "output_type": "execute_result"
    }
   ],
   "execution_count": 2
  },
  {
   "cell_type": "code",
   "id": "54af5567",
   "metadata": {},
   "source": [
    "// This is to show how you can run commands on the command line from the notebook \n",
    "!spark-submit --version"
   ],
   "outputs": [],
   "execution_count": null
  }
 ],
 "metadata": {
  "kernelspec": {
   "display_name": "spylon-kernel",
   "language": "scala",
   "name": "spylon-kernel"
  },
  "language_info": {
   "codemirror_mode": "text/x-scala",
   "file_extension": ".scala",
   "help_links": [
    {
     "text": "MetaKernel Magics",
     "url": "https://metakernel.readthedocs.io/en/latest/source/README.html"
    }
   ],
   "mimetype": "text/x-scala",
   "name": "scala",
   "pygments_lexer": "scala",
   "version": "0.4.1"
  }
 },
 "nbformat": 4,
 "nbformat_minor": 5
}
