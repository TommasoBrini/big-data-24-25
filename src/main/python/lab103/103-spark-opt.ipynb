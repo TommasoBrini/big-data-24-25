{
 "cells": [
  {
   "cell_type": "markdown",
   "id": "3fef6a0f-d919-4c87-b582-eacd2b852cee",
   "metadata": {
    "id": "3fef6a0f-d919-4c87-b582-eacd2b852cee"
   },
   "source": [
    "# 103 Spark optimizations\n",
    "\n",
    "The goal of this lab is to understand some of the optimization mechanisms of Spark.\n",
    "\n",
    "- [Spark programming guide](https://spark.apache.org/docs/latest/rdd-programming-guide.html)\n",
    "- [RDD APIs](https://spark.apache.org/docs/latest/api/scala/org/apache/spark/rdd/RDD.html)\n",
    "- [PairRDD APIs](https://spark.apache.org/docs/latest/api/scala/org/apache/spark/rdd/PairRDDFunctions.html)"
   ]
  },
  {
   "cell_type": "code",
   "id": "4a037caa76dc389a",
   "metadata": {
    "ExecuteTime": {
     "end_time": "2024-11-22T15:11:21.554034Z",
     "start_time": "2024-11-22T15:10:53.642147Z"
    }
   },
   "source": [
    "import org.apache.spark"
   ],
   "outputs": [
    {
     "data": {
      "text/plain": [
       "Intitializing Scala interpreter ..."
      ]
     },
     "metadata": {},
     "output_type": "display_data"
    },
    {
     "data": {
      "text/plain": [
       "Spark Web UI available at http://LAPTOP-PSTRJPQO:4040\n",
       "SparkContext available as 'sc' (version = 3.5.1, master = local[*], app id = local-1732288272044)\n",
       "SparkSession available as 'spark'\n"
      ]
     },
     "metadata": {},
     "output_type": "display_data"
    },
    {
     "data": {
      "text/plain": [
       "import org.apache.spark\r\n"
      ]
     },
     "execution_count": 1,
     "metadata": {},
     "output_type": "execute_result"
    }
   ],
   "execution_count": 1
  },
  {
   "cell_type": "code",
   "id": "f504e515fbb5fa1f",
   "metadata": {
    "ExecuteTime": {
     "end_time": "2024-11-21T12:29:34.957451Z",
     "start_time": "2024-11-21T12:29:34.284807Z"
    }
   },
   "source": [
    "// DO NOT EXECUTE - this is needed just to avoid showing errors in the following cells\n",
    "val sc = spark.SparkContext.getOrCreate()"
   ],
   "outputs": [
    {
     "data": {
      "text/plain": [
       "sc: org.apache.spark.SparkContext = org.apache.spark.SparkContext@6ed06efe\r\n"
      ]
     },
     "execution_count": 2,
     "metadata": {},
     "output_type": "execute_result"
    }
   ],
   "execution_count": 2
  },
  {
   "cell_type": "code",
   "id": "7648dedd-4462-44e4-bcf7-5dc3af6f08a7",
   "metadata": {
    "id": "7648dedd-4462-44e4-bcf7-5dc3af6f08a7",
    "tags": [],
    "ExecuteTime": {
     "end_time": "2024-11-21T16:39:50.787066Z",
     "start_time": "2024-11-21T16:39:47.220065Z"
    }
   },
   "source": [
    "// WEATHER structure: (usaf,wban,year,month,day,airTemperature,airTemperatureQuality)\n",
    "def parseWeather(row:String) = {\n",
    "    val usaf = row.substring(4,10)\n",
    "    val wban = row.substring(10,15)\n",
    "    val year = row.substring(15,19)\n",
    "    val month = row.substring(19,21)\n",
    "    val day = row.substring(21,23)\n",
    "    val airTemperature = row.substring(87,92)\n",
    "    val airTemperatureQuality = row.charAt(92)\n",
    "\n",
    "    (usaf,wban,year,month,day,airTemperature.toInt/10,airTemperatureQuality == '1')\n",
    "}\n",
    "\n",
    "// STATION structure: (usaf,wban,city,country,state,latitude,longitude,elevation,date_begin,date_end) \n",
    "def parseStation(row:String) = {\n",
    "    def getDouble(str:String) : Double = {\n",
    "        if (str.isEmpty)\n",
    "            return 0\n",
    "        else\n",
    "            return str.toDouble\n",
    "    }\n",
    "    val columns = row.split(\",\").map(_.replaceAll(\"\\\"\",\"\"))\n",
    "    val latitude = getDouble(columns(6))\n",
    "    val longitude = getDouble(columns(7))\n",
    "    val elevation = getDouble(columns(8))\n",
    "    (columns(0),columns(1),columns(2),columns(3),columns(4),latitude,longitude,elevation,columns(9),columns(10))  \n",
    "}"
   ],
   "outputs": [
    {
     "data": {
      "text/plain": [
       "parseWeather: (row: String)(String, String, String, String, String, Int, Boolean)\r\n",
       "parseStation: (row: String)(String, String, String, String, String, Double, Double, Double, String, String)\r\n"
      ]
     },
     "execution_count": 9,
     "metadata": {},
     "output_type": "execute_result"
    }
   ],
   "execution_count": 9
  },
  {
   "cell_type": "code",
   "id": "c70c02bd-4c8f-4cc2-9a13-544da7c6544d",
   "metadata": {
    "ExecuteTime": {
     "end_time": "2024-11-21T16:39:57.232584Z",
     "start_time": "2024-11-21T16:39:52.255636Z"
    }
   },
   "source": [
    "val rddWeather = sc.\n",
    "  textFile(\"../../../../datasets/big/weather-sample10.txt\").\n",
    "  map(x => parseWeather(x))\n",
    "val rddStation = sc.\n",
    "  textFile(\"../../../../datasets/weather-stations.csv\").\n",
    "  map(x => parseStation(x))"
   ],
   "outputs": [
    {
     "data": {
      "text/plain": [
       "rddWeather: org.apache.spark.rdd.RDD[(String, String, String, String, String, Int, Boolean)] = MapPartitionsRDD[26] at map at <console>:33\r\n",
       "rddStation: org.apache.spark.rdd.RDD[(String, String, String, String, String, Double, Double, Double, String, String)] = MapPartitionsRDD[29] at map at <console>:36\r\n"
      ]
     },
     "execution_count": 10,
     "metadata": {},
     "output_type": "execute_result"
    }
   ],
   "execution_count": 10
  },
  {
   "cell_type": "markdown",
   "id": "ef4b49ee-6852-4025-9e55-3950ff937680",
   "metadata": {
    "id": "ef4b49ee-6852-4025-9e55-3950ff937680"
   },
   "source": [
    "## 103-1 Simple job optimization\n",
    "\n",
    "Optimize the two jobs (avg temperature and max temperature) by avoiding the repetition of the same computations and by enforcing a partitioning criteria.\n",
    "- There are multiple methods to repartition an RDD: check the ```coalesce```, ```partitionBy```, and ```repartition``` methods on the documentation and choose the best one.\n",
    "  - To create a partitioning function, you must ```import org.apache.spark.HashPartitioner``` and then define ```val p = new HashPartitioner(n)``` where ```n``` is the number of partitions to create\n",
    "- Verify your persisted data in the web UI\n",
    "- Verify the execution plan of your RDDs with ```rdd.toDebugString``` (shell only) or on the web UI"
   ]
  },
  {
   "cell_type": "code",
   "id": "ae20e128-aebc-4340-be2f-9da672fa81f8",
   "metadata": {
    "id": "ae20e128-aebc-4340-be2f-9da672fa81f8",
    "tags": [],
    "ExecuteTime": {
     "end_time": "2024-11-21T16:40:10.582031Z",
     "start_time": "2024-11-21T16:39:59.870380Z"
    }
   },
   "source": [
    "// Average temperature for every month\n",
    "rddWeather.\n",
    "  filter(_._6<999).\n",
    "  map(x => (x._4, x._6)).\n",
    "  aggregateByKey((0.0,0.0))((a,v)=>(a._1+v,a._2+1), (a1,a2)=>(a1._1+a2._1,a1._2+a2._2)).\n",
    "  map({case(k,v)=>(k,Math.round(v._1*100/v._2)/100.0)}).\n",
    "  collect()"
   ],
   "outputs": [
    {
     "data": {
      "text/plain": [
       "res4: Array[(String, Double)] = Array((10,13.32), (11,8.15), (12,4.08), (01,3.06), (02,5.5), (03,8.31), (04,11.75), (05,15.83), (06,18.53), (07,19.96), (08,20.31), (09,17.24))\r\n"
      ]
     },
     "execution_count": 11,
     "metadata": {},
     "output_type": "execute_result"
    }
   ],
   "execution_count": 11
  },
  {
   "cell_type": "code",
   "id": "b614d5393d1a1c2d",
   "metadata": {
    "ExecuteTime": {
     "end_time": "2024-11-21T16:42:09.609705Z",
     "start_time": "2024-11-21T16:42:00.851166Z"
    }
   },
   "source": [
    "// Maximum temperature for every month\n",
    "rddWeather.\n",
    "  filter(_._6<999).\n",
    "  map(x => (x._4, x._6)).\n",
    "  reduceByKey((x,y)=>{if(x<y) y else x}).\n",
    "  collect()"
   ],
   "outputs": [
    {
     "data": {
      "text/plain": [
       "res5: Array[(String, Int)] = Array((10,55), (11,43), (12,47), (01,55), (02,47), (03,44), (04,48), (05,49), (06,56), (07,56), (08,56), (09,55))\r\n"
      ]
     },
     "execution_count": 12,
     "metadata": {},
     "output_type": "execute_result"
    }
   ],
   "execution_count": 12
  },
  {
   "metadata": {},
   "cell_type": "markdown",
   "source": "Exercise 1 => cached repetition operations",
   "id": "69d26f21938b347d"
  },
  {
   "metadata": {
    "ExecuteTime": {
     "end_time": "2024-11-21T12:46:25.991150Z",
     "start_time": "2024-11-21T12:44:55.925454Z"
    }
   },
   "cell_type": "code",
   "outputs": [
    {
     "data": {
      "text/plain": [
       "import org.apache.spark.HashPartitioner\r\n",
       "partitioner: org.apache.spark.HashPartitioner = org.apache.spark.HashPartitioner@8\r\n",
       "cachedRddWeather: org.apache.spark.rdd.RDD[(String, Int)] = ShuffledRDD[20] at partitionBy at <console>:33\r\n",
       "res3: Array[(String, Int)] = Array((11,43), (08,56), (09,55), (12,47), (01,55), (02,47), (03,44), (04,48), (05,49), (06,56), (07,56), (10,55))\r\n"
      ]
     },
     "execution_count": 7,
     "metadata": {},
     "output_type": "execute_result"
    }
   ],
   "execution_count": 7,
   "source": [
    "import org.apache.spark.HashPartitioner\n",
    "val partitioner = new HashPartitioner(8)\n",
    "val cachedRddWeather = rddWeather.\n",
    "  filter(_._6 < 999).\n",
    "  map(x => (x._4, x._6)).\n",
    "  partitionBy(partitioner).\n",
    "  cache()\n",
    "\n",
    "// Average temperature for every month\n",
    "cachedRddWeather.aggregateByKey((0.0,0.0))((a,v)=>(a._1+v,a._2+1), (a1,a2)=>(a1._1+a2._1,a1._2+a2._2)).\n",
    "  map({case(k,v)=>(k,Math.round(v._1*100/v._2)/100.0)}).\n",
    "  collect()\n",
    "\n",
    "// Maximum temperature for every month\n",
    "cachedRddWeather.\n",
    "  reduceByKey((x,y)=>{if(x<y) y else x}).\n",
    "  collect()"
   ],
   "id": "44ab27f1e5b79bb7"
  },
  {
   "cell_type": "markdown",
   "id": "377fbf30-f568-413c-9238-de139db23135",
   "metadata": {
    "id": "377fbf30-f568-413c-9238-de139db23135"
   },
   "source": [
    "## 103-2 RDD preparation\n",
    "\n",
    "Check the five possibilities to prepare the Station RDD for subsequent processing and identify the best one."
   ]
  },
  {
   "cell_type": "code",
   "execution_count": null,
   "id": "e16b6b4e-b4b6-4ca3-94bb-11b6c65c03d0",
   "metadata": {
    "ExecuteTime": {
     "end_time": "2024-10-20T15:51:59.650807Z",
     "start_time": "2024-10-20T15:51:59.467316Z"
    },
    "id": "e16b6b4e-b4b6-4ca3-94bb-11b6c65c03d0",
    "tags": []
   },
   "outputs": [],
   "source": [
    "import org.apache.spark.HashPartitioner\n",
    "val p2 = new HashPartitioner(8)\n",
    "\n",
    "// _1 and _2 are the fields composing the key; _4 and _8 are country and elevation, respectively\n",
    "val rddS1 = rddStation.\n",
    "  keyBy(x => x._1 + x._2).\n",
    "  partitionBy(p2).\n",
    "  cache().\n",
    "  map({case (k,v) => (k,(v._4,v._8))})\n",
    "val rddS2 = rddStation.\n",
    "  keyBy(x => x._1 + x._2).\n",
    "  map({case (k,v) => (k,(v._4,v._8))}).\n",
    "  cache().\n",
    "  partitionBy(p2)\n",
    "val rddS3 = rddStation.\n",
    "  keyBy(x => x._1 + x._2).\n",
    "  partitionBy(p2).\n",
    "  map({case (k,v) => (k,(v._4,v._8))}).\n",
    "  cache()\n",
    "val rddS4 = rddStation.\n",
    "  keyBy(x => x._1 + x._2).\n",
    "  map({case (k,v) => (k,(v._4,v._8))}).\n",
    "  partitionBy(p2).\n",
    "  cache()\n",
    "val rddS5 = rddStation.\n",
    "  map(x => (x._1 + x._2, (x._4,x._8))).\n",
    "  partitionBy(p2).\n",
    "  cache()"
   ]
  },
  {
   "metadata": {},
   "cell_type": "markdown",
   "source": [
    "Soluzione => keyBy() e map() rompono la partizione, quindi devono essere fatte prima di partitionBy(). Tutto ciò che accade dopo cache() non è salvato e deve essere ricalcolato ogni volta, quindi mettere cache() il più tardi possibile.\n",
    "\n",
    "====>>>> rddS4 e rddS5 sono le opzioni migliori"
   ],
   "id": "6b09257e30022c92"
  },
  {
   "cell_type": "markdown",
   "id": "75c3071b-c9ee-4c02-a85f-2800b9c4d8ed",
   "metadata": {
    "id": "75c3071b-c9ee-4c02-a85f-2800b9c4d8ed"
   },
   "source": [
    "## 103-3 Joining RDDs\n",
    "\n",
    "Define the join between rddWeather and rddStation and compute:\n",
    "- The maximum temperature for every city\n",
    "- The maximum temperature for every city in the UK: \n",
    "  - ```StationData.country == \"UK\"```\n",
    "- Sort the results by descending temperature\n",
    "  - ```map({case(k,v)=>(v,k)})``` to invert key with value and vice versa\n",
    "\n",
    "Hints & considerations:\n",
    "- Keep only temperature values <999\n",
    "- Join syntax: ```rdd1.join(rdd2)```\n",
    "  - Both RDDs should be structured as key-value RDDs with the same key: usaf + wban\n",
    "- Consider partitioning and caching to optimize the join\n",
    "  - Careful: it is not enough for the two RDDs to have the same number of partitions; they must have the same partitioner!\n",
    "- Verify the execution plan of the join in the web UI"
   ]
  },
  {
   "metadata": {
    "ExecuteTime": {
     "end_time": "2024-11-21T17:08:23.415085Z",
     "start_time": "2024-11-21T17:08:20.638946Z"
    }
   },
   "cell_type": "code",
   "source": [
    "// Clear the cache\n",
    "sc.getPersistentRDDs.foreach(_._2.unpersist())"
   ],
   "id": "60c0045895fdc726",
   "outputs": [],
   "execution_count": 14
  },
  {
   "metadata": {
    "ExecuteTime": {
     "end_time": "2024-11-21T17:43:00.267819Z",
     "start_time": "2024-11-21T17:42:35.287425Z"
    }
   },
   "cell_type": "code",
   "source": [
    "val p3 = new HashPartitioner(8)\n",
    "\n",
    "val rddSt = rddStation.\n",
    "  map( r => (r._1 + r._2, (r._3, r._4))).\n",
    "  partitionBy(p3)\n",
    "val rddWe = rddWeather.\n",
    "  filter(_._6 < 999).\n",
    "  map (r => (r._1 + r._2, r._6)).\n",
    "  partitionBy(p3)\n",
    "\n",
    "// JOIN\n",
    "val rddJoined = rddSt.join(rddWe).cache()\n"
   ],
   "id": "29e07b7873c646d6",
   "outputs": [
    {
     "data": {
      "text/plain": [
       "p3: org.apache.spark.HashPartitioner = org.apache.spark.HashPartitioner@8\r\n",
       "rddSt: org.apache.spark.rdd.RDD[(String, (String, String))] = ShuffledRDD[75] at partitionBy at <console>:38\r\n",
       "rddWe: org.apache.spark.rdd.RDD[(String, Int)] = ShuffledRDD[78] at partitionBy at <console>:42\r\n",
       "rddJoined: org.apache.spark.rdd.RDD[(String, ((String, String), Int))] = MapPartitionsRDD[81] at join at <console>:45\r\n",
       "res7: Array[(String, Int)] = Array((RYBINSK,28), (POWRANNA (TASMANIA FEEDLOT),31), (GUNNEDAH POOL,33), (HUICHON,34), (NJURBA,40), (RICHMOND OPERATION CENTRE,7), (TURI,23), (KARSHI,39), (ENVIRONM BUOY 62425,-10), (ILIAMNA AIRPORT,20), (SINAIA-1500,26), (UFA,36), (DIKILI,31), (HART ISLAND (AUT)  NS,22), (CAHOKIA/ST. LOUIS,36), (BOJNORD,36), (RONG-SHUI,25), (ONEGA,29), (ANJU,32), (GANDER INTL,29)...\r\n"
      ]
     },
     "execution_count": 23,
     "metadata": {},
     "output_type": "execute_result"
    }
   ],
   "execution_count": 23
  },
  {
   "metadata": {
    "ExecuteTime": {
     "end_time": "2024-11-21T17:46:41.360851Z",
     "start_time": "2024-11-21T17:46:39.137141Z"
    }
   },
   "cell_type": "code",
   "source": [
    "//MAXIMUM TEMPERATURE FOR EVERY CITY\n",
    "rddJoined.\n",
    "  map(r => (r._2._1._1, r._2._2)).\n",
    "  reduceByKey((x,y) => {if(x>y) x else y})\n",
    "  .collect()"
   ],
   "id": "6de16799ad20f4fc",
   "outputs": [
    {
     "data": {
      "text/plain": [
       "res10: Array[(String, Int)] = Array((RYBINSK,28), (POWRANNA (TASMANIA FEEDLOT),31), (GUNNEDAH POOL,33), (HUICHON,34), (NJURBA,40), (RICHMOND OPERATION CENTRE,7), (TURI,23), (KARSHI,39), (ENVIRONM BUOY 62425,-10), (ILIAMNA AIRPORT,20), (SINAIA-1500,26), (UFA,36), (DIKILI,31), (HART ISLAND (AUT)  NS,22), (CAHOKIA/ST. LOUIS,36), (BOJNORD,36), (RONG-SHUI,25), (ONEGA,29), (ANJU,32), (GANDER INTL,29), (KRUSEVAC,40), (LES ESCALDES,19), (UST-KARENGA,0), (HINOJOSA DEL DUQUE,26), (OBAN,22), (MAREEBA AIRPORT,32), (FEIRA DE SANTANA,21), (PLATFORM NO. 62125,21), (SCHOOLCRAFT CO,27), (EL BORMA,45), (LUSAKA INTL,35), (SURABAYA/PERAK,33), (PEMBERTON AIRPORT  BC,34), (ALLENDALE,35), (TED STEVENS ANCHORAGE INTL,21), (HAMILTON/RAVALLI CO,33), (ATHENS/BEN EPPS AIRPORT,37), (GLEBA CELESTE,36), (SURABAYA/GED...\r\n"
      ]
     },
     "execution_count": 26,
     "metadata": {},
     "output_type": "execute_result"
    }
   ],
   "execution_count": 26
  },
  {
   "metadata": {
    "ExecuteTime": {
     "end_time": "2024-11-21T17:45:50.392678Z",
     "start_time": "2024-11-21T17:45:42.243736Z"
    }
   },
   "cell_type": "code",
   "source": [
    "// The maximum temperature for every city in the UK\n",
    "rddJoined.\n",
    "  filter(r => r._2._1._2 == \"UK\").\n",
    "  map(r => (r._2._1._1, r._2._2)).\n",
    "  reduceByKey((x,y) => {if(x>y) x else y})\n",
    "  .collect()"
   ],
   "id": "5d7c48b63bb70ee7",
   "outputs": [
    {
     "data": {
      "text/plain": [
       "res9: Array[(String, Int)] = Array((WATTISHAM,30), (CAMBRIDGE,30), (NORWICH,31), (PRESTWICK RNAS,21), (LYNEHAM,28), (WAINFLEET (AUT),24), (GREAT MALVERN,28), (TAIN RANGE (SAWS),21), (COVENTRY,28), (LOSSIEMOUTH,23), (LEEDS WEATHER CTR,30), (SEA LION ISLAND,12), (ISLE OF PORTLAND,20), (ENVIRONM BUOY 62128,17), (OBAN,22), (PEMBRY SANDS,23), (NEWCASTLE,23), (GLASGOW,26), (HONINGTON,26), (PERSHORE,26), (ST MAWGAN,23), (BARKSTON HEATH,13), (MADLEY,23), (BALTASOUND NO.2,17), (BOLTSHOPE PARK,20), (SELLA NESS,17), (ODIHAM,27), (LOCHRANZA NO3,21), (KIRKWALL,19), (ASPATRIA,25), (FOULA,13), (LAKENHEATH,33), (SULE SKERRY,16), (SENNYBRIDGE NO2,26), (CULDROSE,22), (GREENOCK MRCC,24), (NOTTINGHAM/WATNALL,29), (BUTT OF LEWIS (LH),8), (GRAVESEND-BROADNESS,27), (SAUGHALL,21), (LEEMING,28), (PLATFORM NO. 6...\r\n"
      ]
     },
     "execution_count": 25,
     "metadata": {},
     "output_type": "execute_result"
    }
   ],
   "execution_count": 25
  },
  {
   "metadata": {
    "ExecuteTime": {
     "end_time": "2024-11-21T17:49:44.859451Z",
     "start_time": "2024-11-21T17:48:39.099015Z"
    }
   },
   "cell_type": "code",
   "source": [
    "//Sort the results by descending temperature\n",
    "rddJoined.\n",
    "  map({case(k,v)=>(v,k)}).\n",
    "  sortByKey(false).\n",
    "  map({case(k,v)=>(v,k)}).\n",
    "  collect()\n"
   ],
   "id": "2eb681ae5fc5aa3c",
   "outputs": [
    {
     "data": {
      "text/plain": [
       "res11: Array[(String, ((String, String), Int))] = Array((69679099999,((\"\",\"\"),-25)), (69665499999,((\"\",\"\"),-22)), (69665499999,((\"\",\"\"),-22)), (69679099999,((\"\",\"\"),-19)), (69679099999,((\"\",\"\"),-18)), (69679099999,((\"\",\"\"),-18)), (69665499999,((\"\",\"\"),-18)), (69708499999,((\"\",\"\"),-17)), (69679099999,((\"\",\"\"),-17)), (69679099999,((\"\",\"\"),-17)), (69689499999,((\"\",\"\"),-16)), (69689499999,((\"\",\"\"),-16)), (69167499999,((\"\",\"\"),-16)), (69167499999,((\"\",\"\"),-16)), (69680499999,((\"\",\"\"),-15)), (69689499999,((\"\",\"\"),-15)), (69679099999,((\"\",\"\"),-15)), (69689499999,((\"\",\"\"),-14)), (69689499999,((\"\",\"\"),-14)), (69689499999,((\"\",\"\"),-14)), (69689499999,((\"\",\"\"),-14)), (69091499999,((\"\",\"\"),-14)), (69091499999,((\"\",\"\"),-14)), (69111499999,((\"\",\"\"),-14)), (69061499999,((\"\",\"\"),-14)), (69689499999,((\"...\r\n"
      ]
     },
     "execution_count": 27,
     "metadata": {},
     "output_type": "execute_result"
    }
   ],
   "execution_count": 27
  },
  {
   "cell_type": "markdown",
   "id": "0c47156d-62bd-42cf-bb15-5d2496f8b882",
   "metadata": {
    "id": "0c47156d-62bd-42cf-bb15-5d2496f8b882"
   },
   "source": [
    "## 103-4 Memory occupation\n",
    "\n",
    "Use Spark's web UI to verify the space occupied by the provided RDDs."
   ]
  },
  {
   "cell_type": "code",
   "execution_count": null,
   "id": "af3068b3-f2aa-4d13-812b-7d0461a35390",
   "metadata": {
    "ExecuteTime": {
     "end_time": "2024-10-20T16:12:02.380987Z",
     "start_time": "2024-10-20T16:12:02.234579Z"
    },
    "id": "af3068b3-f2aa-4d13-812b-7d0461a35390",
    "tags": []
   },
   "outputs": [],
   "source": [
    "import org.apache.spark.storage.StorageLevel._\n",
    "\n",
    "sc.getPersistentRDDs.foreach(_._2.unpersist())\n",
    "\n",
    "val memRdd = rddWeather.cache()\n",
    "val memSerRdd = memRdd.map(x=>x).persist(MEMORY_ONLY_SER)\n",
    "val diskRdd = memRdd.map(x=>x).persist(DISK_ONLY)"
   ]
  },
  {
   "cell_type": "markdown",
   "id": "f4c7bc50-bb59-4e70-8955-8a44d7de774d",
   "metadata": {
    "id": "f4c7bc50-bb59-4e70-8955-8a44d7de774d"
   },
   "source": [
    "## 103-5 Evaluating different join methods\n",
    "\n",
    "Consider the following scenario:\n",
    "- We have a disposable RDD of Weather data (i.e., it is used only once): ```rddW```\n",
    "- And we have an RDD of Station data that is used many times: ```rddS```\n",
    "- Both RDDs are cached (```collect()```is called to enforce caching)\n",
    "\n",
    "We want to join the two RDDS. Which option is best?\n",
    "- Simply join the two RDDs\n",
    "- Enforce on ```rddW1``` the same partitioner of ```rddS``` (and then join)\n",
    "- Exploit broadcast variables"
   ]
  },
  {
   "cell_type": "code",
   "execution_count": null,
   "id": "31d77122-8bdd-4784-a86e-f42f2da06759",
   "metadata": {
    "ExecuteTime": {
     "end_time": "2024-10-20T16:18:53.686421Z",
     "start_time": "2024-10-20T16:18:51.290892Z"
    },
    "id": "31d77122-8bdd-4784-a86e-f42f2da06759",
    "tags": []
   },
   "outputs": [],
   "source": [
    "import org.apache.spark.HashPartitioner\n",
    "val p = new HashPartitioner(8)\n",
    "sc.getPersistentRDDs.foreach(_._2.unpersist())\n",
    "\n",
    "val rddW = rddWeather.\n",
    "  filter(_._6<999).\n",
    "  keyBy(x => x._1 + x._2).\n",
    "  persist()\n",
    "val rddS = rddStation.\n",
    "  keyBy(x => x._1 + x._2).\n",
    "  partitionBy(p).\n",
    "  cache()\n",
    "\n",
    "// Collect to enforce caching\n",
    "rddW.collect()\n",
    "rddS.collect()"
   ]
  },
  {
   "cell_type": "code",
   "execution_count": null,
   "id": "30a6822816cd65d2",
   "metadata": {
    "ExecuteTime": {
     "end_time": "2024-10-20T16:19:05.603687Z",
     "start_time": "2024-10-20T16:19:04.730871Z"
    }
   },
   "outputs": [],
   "source": [
    "// Is it better to simply join the two RDDs..\n",
    "rddW.\n",
    "  join(rddS).\n",
    "  map({case(k,v)=>(v._2._3,v._1._6)}).\n",
    "  reduceByKey((x,y)=>{if(x<y) y else x}).\n",
    "  collect"
   ]
  },
  {
   "cell_type": "code",
   "execution_count": null,
   "id": "4e0e5f9827be45d2",
   "metadata": {
    "ExecuteTime": {
     "end_time": "2024-10-20T16:19:26.072648Z",
     "start_time": "2024-10-20T16:19:25.244226Z"
    }
   },
   "outputs": [],
   "source": [
    "// ..to enforce on rddW1 the same partitioner of rddS..\n",
    "rddW.\n",
    "  partitionBy(p).\n",
    "  join(rddS).\n",
    "  map({case(k,v)=>(v._2._3,v._1._6)}).\n",
    "  reduceByKey((x,y)=>{if(x<y) y else x}).\n",
    "  collect()"
   ]
  },
  {
   "cell_type": "code",
   "execution_count": null,
   "id": "d50b618652ac67fc",
   "metadata": {
    "ExecuteTime": {
     "end_time": "2024-10-20T16:19:36.264001Z",
     "start_time": "2024-10-20T16:19:35.988801Z"
    }
   },
   "outputs": [],
   "source": [
    "// ..or to exploit broadcast variables?\n",
    "val bRddS = sc.broadcast(rddS.map(x => (x._1, x._2._3)).collectAsMap())\n",
    "val rddJ = rddW.\n",
    "  map({case (k,v) => (bRddS.value.get(k),v._6)}).\n",
    "  filter(_._1!=None)\n",
    "rddJ.\n",
    "  reduceByKey((x,y)=>{if(x<y) y else x}).\n",
    "  collect()"
   ]
  },
  {
   "cell_type": "markdown",
   "id": "e9cc81c0-1425-4ef9-8a19-a7edca031c33",
   "metadata": {
    "id": "e9cc81c0-1425-4ef9-8a19-a7edca031c33"
   },
   "source": [
    "## 103-6 Optimizing Exercise 3\n",
    "\n",
    "Start from the result of the last job of Exercise 3; is there a more efficient way to compute the same result?\n",
    "- Try it on weather-sample10\n",
    "- Hint: consider that each station is located in only one country"
   ]
  },
  {
   "cell_type": "code",
   "execution_count": null,
   "id": "47748353-fb4b-432f-af79-d1136453b956",
   "metadata": {
    "ExecuteTime": {
     "end_time": "2024-10-20T16:39:53.616157Z",
     "start_time": "2024-10-20T16:39:17.055562Z"
    },
    "id": "47748353-fb4b-432f-af79-d1136453b956",
    "tags": []
   },
   "outputs": [],
   "source": [
    "import org.apache.spark.HashPartitioner\n",
    "import org.apache.spark.storage.StorageLevel._\n",
    "val p = new HashPartitioner(8)\n",
    "sc.getPersistentRDDs.foreach(_._2.unpersist())\n",
    "\n",
    "val rddS = rddStation.\n",
    "  keyBy(x => x._1 + x._2).\n",
    "  partitionBy(p).\n",
    "  cache()\n",
    "val rddW = rddWeather.\n",
    "  filter(_._6<999).\n",
    "  keyBy(x => x._1 + x._2).\n",
    "  partitionBy(p).\n",
    "  persist(MEMORY_AND_DISK_SER)\n",
    "\n",
    "// Collect to enforce caching\n",
    "rddW.collect()\n",
    "rddS.collect()"
   ]
  },
  {
   "cell_type": "code",
   "execution_count": null,
   "id": "67f448cc-efc7-4793-a3a2-4a19e0e6fc15",
   "metadata": {
    "ExecuteTime": {
     "end_time": "2024-10-20T16:29:51.299610Z",
     "start_time": "2024-10-20T16:29:50.682782Z"
    },
    "id": "67f448cc-efc7-4793-a3a2-4a19e0e6fc15",
    "tags": []
   },
   "outputs": [],
   "source": [
    "// First version\n",
    "rddW.\n",
    "  join(rddS).\n",
    "  filter(_._2._2._4==\"UK\").\n",
    "  map({case(k,v)=>(v._2._3,v._1._6)}).\n",
    "  reduceByKey((x,y)=>{if(x<y) y else x}).\n",
    "  map({case(k,v)=>(v,k)}).\n",
    "  sortByKey(false).\n",
    "  collect()"
   ]
  }
 ],
 "metadata": {
  "colab": {
   "collapsed_sections": [],
   "name": "302-solutions.ipynb",
   "provenance": []
  },
  "kernelspec": {
   "display_name": "spylon-kernel",
   "language": "scala",
   "name": "spylon-kernel"
  },
  "language_info": {
   "codemirror_mode": "text/x-scala",
   "mimetype": "text/x-scala",
   "name": "scala",
   "pygments_lexer": "scala"
  }
 },
 "nbformat": 4,
 "nbformat_minor": 5
}
